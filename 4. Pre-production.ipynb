{
 "cells": [
  {
   "cell_type": "code",
   "execution_count": 0,
   "metadata": {
    "application/vnd.databricks.v1+cell": {
     "cellMetadata": {
      "byteLimit": 2048000,
      "rowLimit": 10000
     },
     "inputWidgets": {},
     "nuid": "f5366137-d5c9-460c-9dcc-1e485f16a4ca",
     "showTitle": false,
     "tableResultSettingsMap": {},
     "title": ""
    },
    "jupyter": {
     "outputs_hidden": true,
     "source_hidden": true
    }
   },
   "outputs": [],
   "source": [
    "%pip install -U -qqqq -r requirements.txt\n",
    "%restart_python"
   ]
  },
  {
   "cell_type": "code",
   "execution_count": 0,
   "metadata": {
    "application/vnd.databricks.v1+cell": {
     "cellMetadata": {
      "byteLimit": 2048000,
      "rowLimit": 10000
     },
     "inputWidgets": {},
     "nuid": "7afa3a27-1dd4-4dab-9b50-64e9b8ae14b9",
     "showTitle": true,
     "tableResultSettingsMap": {},
     "title": "Agent's code"
    }
   },
   "outputs": [],
   "source": [
    "%run ./function_calling_agent_openai_sdk"
   ]
  },
  {
   "cell_type": "code",
   "execution_count": 0,
   "metadata": {
    "application/vnd.databricks.v1+cell": {
     "cellMetadata": {
      "byteLimit": 2048000,
      "rowLimit": 10000
     },
     "inputWidgets": {},
     "nuid": "af0d62b2-84fa-4343-8c2b-9996b8c50c06",
     "showTitle": true,
     "tableResultSettingsMap": {},
     "title": "Agent's config"
    },
    "jupyter": {
     "source_hidden": true
    }
   },
   "outputs": [],
   "source": [
    "# Pydantic class to make configuration easiser to use.  Developers can use this, Python dictionaries or YAML files for their configuration.\n",
    "from configs import (\n",
    "    AgentConfig,\n",
    "    FunctionCallingLLMConfig,\n",
    "    LLMParametersConfig,\n",
    "    RetrieverToolConfig,\n",
    "    RetrieverParametersConfig,\n",
    "    RetrieverSchemaConfig,\n",
    "    UCToolConfig,\n",
    ")\n",
    "import yaml\n",
    "\n",
    "\n",
    "docs_retriever = RetrieverToolConfig(\n",
    "    vector_search_index=\"agents_demo.data.product_docs_index\",  # UC Vector Search index\n",
    "    vector_search_schema=RetrieverSchemaConfig(\n",
    "        primary_key=\"product_id\",\n",
    "        chunk_text=\"indexed_doc\",\n",
    "        document_uri=\"product_id\",\n",
    "        additional_metadata_columns=[\n",
    "            # \"issue_area\",\n",
    "            # \"issue_category\",\n",
    "            # \"issue_sub_category\",\n",
    "            # \"product_category\",\n",
    "            # \"product_sub_category\",\n",
    "            # \"conversation\",\n",
    "            # \"timestamp\",\n",
    "            # \"user_id\",\n",
    "        ],\n",
    "    ),\n",
    "    vector_search_parameters=RetrieverParametersConfig(\n",
    "        num_results=1,\n",
    "        query_type=\"ann\",  # Type of search: ann or hybrid\n",
    "    ),\n",
    "    vector_search_threshold=0.0,\n",
    "    # Tool prompt templates\n",
    "    # chunk_template=\"Passage text: {chunk_text}\\nPassage metadata: {metadata}\\n\\n\",\n",
    "    # prompt_template=\"\"\"Use the following pieces of retrieved context to answer the question.\\nOnly use the passages from context that are relevant to the query to answer the question, ignore the irrelevant passages.  When responding, cite your source, referring to the passage by the columns in the passage's metadata.\\n\\nContext: {context}\"\"\",\n",
    "    retriever_query_parameter_prompt=\"query to look up in the product documentation\",\n",
    "    retriever_filter_parameter_prompt=\"Optional filters to apply to the search. An array of objects, each specifying a field name and the filters to apply to that field.  ONLY use the LIKE type of filter if you have a string to query in product_category, etc.  Prefer to query WITHOUT filters.\",\n",
    "    tool_description_prompt=\"Search the production documentation for product information.  If you need to know how to troubleshoot, what a product does, common issues, etc, use this tool.\",\n",
    "    tool_name=\"retrieve_product_docs\",\n",
    "    # Retriever internals\n",
    "    tool_class_name=\"VectorSearchRetriever\",\n",
    ")\n",
    "\n",
    "# python_exec_config = UCToolConfig(\n",
    "#     uc_catalog_name=\"ep\",\n",
    "#     uc_schema_name=\"agent_demo\",\n",
    "#     uc_function_name=\"python_exec\",\n",
    "# )\n",
    "\n",
    "# recent_orders = UCToolConfig(\n",
    "#     uc_catalog_name=\"ep\",\n",
    "#     uc_schema_name=\"agent_demo\",\n",
    "#     uc_function_name=\"user_orders\",\n",
    "# )\n",
    "\n",
    "########################\n",
    "#### ✅✏️ LLM configuration\n",
    "########################\n",
    "\n",
    "llm_config = FunctionCallingLLMConfig(\n",
    "    llm_endpoint_name=\"agents-demo-gpt4o\",  # Model serving endpoint\n",
    "    llm_system_prompt_template=(\n",
    "        \"\"\"You are a helpful assistant that answers questions by calling tools.  Provide responses ONLY based on the outputs from tools.  Ask follow up questions if needed.  If don't get relevant results from the retriever tool while using filters, try to call the retriever tool again with JUST a query and no filters!\"\"\"\n",
    "    ),  # System prompt template\n",
    "    llm_parameters=LLMParametersConfig(\n",
    "        temperature=0.01, max_tokens=1500\n",
    "    ),  # LLM parameters\n",
    "    tools=[docs_retriever],\n",
    ")\n",
    "\n",
    "function_calling_agent_config = AgentConfig(\n",
    "    llm_config=llm_config,\n",
    "    input_example={\n",
    "        \"messages\": [\n",
    "            {\n",
    "                \"role\": \"user\",\n",
    "                \"content\": \"What is the top customer issue?\",\n",
    "            },\n",
    "        ]\n",
    "    },\n",
    "    agent_description=\"Has access to the product documentation, transcripts from our customer service call center and information about customer's recent orders.\",\n",
    "    agent_name=\"CustomerServiceTranscripts\",\n",
    "    endpoint_name=\"agents_ep-agent_demo-customer_bot_function_calling_agent\",\n",
    ")\n",
    "\n",
    "with open(\"config.yml\", \"w\") as file:\n",
    "    yaml.dump(function_calling_agent_config.dict(), file, default_flow_style=False)\n",
    "\n",
    "import json\n",
    "print(json.dumps(function_calling_agent_config.dict(), indent=4))"
   ]
  },
  {
   "cell_type": "code",
   "execution_count": 0,
   "metadata": {
    "application/vnd.databricks.v1+cell": {
     "cellMetadata": {
      "byteLimit": 2048000,
      "rowLimit": 10000
     },
     "inputWidgets": {},
     "nuid": "6bf7d98e-4c22-4c62-b8f7-47acb46e9ce0",
     "showTitle": false,
     "tableResultSettingsMap": {},
     "title": ""
    }
   },
   "outputs": [],
   "source": [
    "agent = FunctionCallingAgent(agent_config=function_calling_agent_config.dict())\n",
    "\n",
    "response = agent.predict(\n",
    "    model_input={\n",
    "        \"messages\": [\n",
    "            {\n",
    "                \"role\": \"user\",\n",
    "                \"content\": \"How does our blender work?\",\n",
    "            },\n",
    "        ]\n",
    "    }\n",
    ")"
   ]
  },
  {
   "cell_type": "code",
   "execution_count": 0,
   "metadata": {
    "application/vnd.databricks.v1+cell": {
     "cellMetadata": {
      "byteLimit": 2048000,
      "rowLimit": 10000
     },
     "inputWidgets": {},
     "nuid": "5e055f7c-5dd8-4dfa-88e5-eb9e153df162",
     "showTitle": false,
     "tableResultSettingsMap": {},
     "title": ""
    }
   },
   "outputs": [],
   "source": [
    "from mlflow.models.resources import (\n",
    "    DatabricksVectorSearchIndex,\n",
    "    DatabricksServingEndpoint,\n",
    ")\n",
    "from mlflow.models.signature import ModelSignature\n",
    "from mlflow.models.rag_signatures import StringResponse, ChatCompletionRequest, Message\n",
    "import yaml\n",
    "from databricks import agents\n",
    "from databricks import vector_search\n",
    "from databricks.vector_search.client import VectorSearchClient\n",
    "from mlflow.types.llm import CHAT_MODEL_INPUT_SCHEMA\n",
    "\n",
    "def log_agent_to_mlflow(agent_config, agent_code_file):\n",
    "    # Add the Databricks resources so that credentials are automatically provisioned by agents.deploy(...)\n",
    "    databricks_resources = [\n",
    "        DatabricksServingEndpoint(\n",
    "            endpoint_name=agent_config.llm_config.llm_endpoint_name\n",
    "        ),\n",
    "    ]\n",
    "\n",
    "    # Add the Databricks resources for the retriever's vector indexes\n",
    "    for tool in agent_config.llm_config.tools:\n",
    "        if type(tool) == RetrieverToolConfig:\n",
    "            databricks_resources.append(\n",
    "                DatabricksVectorSearchIndex(index_name=tool.vector_search_index)\n",
    "            )\n",
    "            index_embedding_model = (\n",
    "                VectorSearchClient(disable_notice=True)\n",
    "                .get_index(index_name=tool.vector_search_index)\n",
    "                .describe()\n",
    "                .get(\"delta_sync_index_spec\")\n",
    "                .get(\"embedding_source_columns\")[0]\n",
    "                .get(\"embedding_model_endpoint_name\")\n",
    "            )\n",
    "            if index_embedding_model is not None:\n",
    "                databricks_resources.append(\n",
    "                    DatabricksServingEndpoint(endpoint_name=index_embedding_model),\n",
    "                )\n",
    "            else:\n",
    "                print(\n",
    "                    \"Could not identify the embedding model endpoint resource for {tool.vector_search_index}.  Please manually add the embedding model endpoint to `databricks_resources`.\"\n",
    "                )\n",
    "\n",
    "    # Specify the full path to the Agent notebook\n",
    "    # model_file = \"function_calling_agent_openai_sdk\"\n",
    "    # model_path = os.path.join(os.getcwd(), model_file)\n",
    "    with open(\"requirements.txt\", \"r\") as file:\n",
    "        requirements = [line.strip() for line in file.readlines()]\n",
    "    # Log the agent as an MLflow model\n",
    "    return mlflow.pyfunc.log_model(\n",
    "        python_model=agent_code_file,\n",
    "        model_config=agent_config.dict(),\n",
    "        artifact_path=\"agent\",\n",
    "        input_example=agent_config.input_example,\n",
    "        resources=databricks_resources,\n",
    "        signature=ModelSignature(\n",
    "            inputs=CHAT_MODEL_INPUT_SCHEMA,\n",
    "            outputs=StringResponse(),\n",
    "        ),\n",
    "        extra_pip_requirements=requirements+['pyspark'],\n",
    "    )"
   ]
  },
  {
   "cell_type": "code",
   "execution_count": 0,
   "metadata": {
    "application/vnd.databricks.v1+cell": {
     "cellMetadata": {
      "byteLimit": 2048000,
      "rowLimit": 10000
     },
     "inputWidgets": {},
     "nuid": "28abb727-6d60-4350-b52b-12dc303b7bca",
     "showTitle": false,
     "tableResultSettingsMap": {},
     "title": ""
    }
   },
   "outputs": [],
   "source": [
    "with mlflow.start_run():\n",
    "  logged_agent_info = log_agent_to_mlflow(function_calling_agent_config, \"function_calling_agent_openai_sdk\")"
   ]
  },
  {
   "cell_type": "code",
   "execution_count": 0,
   "metadata": {
    "application/vnd.databricks.v1+cell": {
     "cellMetadata": {
      "byteLimit": 2048000,
      "rowLimit": 10000
     },
     "inputWidgets": {},
     "nuid": "00e5daad-9b7a-403a-b045-e86e1f90f83e",
     "showTitle": false,
     "tableResultSettingsMap": {},
     "title": ""
    }
   },
   "outputs": [],
   "source": [
    "from databricks import agents\n",
    "import mlflow\n",
    "\n",
    "# You can log a new version or deploy an already logged/evaluated model from above.  Here, we use the last model logged for simplicity.\n",
    "\n",
    "# Use Unity Catalog as the model registry\n",
    "mlflow.set_registry_uri(\"databricks-uc\")\n",
    "\n",
    "uc_model_name = \"agents_demo.playground.demo_agent\"\n",
    "\n",
    "# Register the Agent's model to the Unity Catalog\n",
    "uc_registered_model_info = mlflow.register_model(\n",
    "    model_uri=logged_agent_info.model_uri, \n",
    "    name=uc_model_name # Unity Catalog model is configured in settings cell\n",
    ")\n",
    "\n",
    "# Deploy to enable the Review App and create an API endpoint\n",
    "deployment_info = agents.deploy(uc_model_name, uc_registered_model_info.version)\n",
    "\n",
    "displayHTML(\n",
    "    f'<a href=\"{deployment_info.review_app_url}\" target=\"_blank\"><button style=\"color: white; background-color: #0073e6; padding: 10px 24px; cursor: pointer; border: none; border-radius: 4px;\">SME Chat UI (review app)</button></a>'\n",
    ")\n",
    "\n",
    "displayHTML(\n",
    "    f'<a href=\"{deployment_info.endpoint_url}\" target=\"_blank\"><button style=\"color: white; background-color: #0073e6; padding: 10px 24px; cursor: pointer; border: none; border-radius: 4px;\">Model Serving REST API</button></a>'\n",
    ")"
   ]
  },
  {
   "cell_type": "code",
   "execution_count": 0,
   "metadata": {
    "application/vnd.databricks.v1+cell": {
     "cellMetadata": {
      "byteLimit": 2048000,
      "implicitDf": true,
      "rowLimit": 10000
     },
     "inputWidgets": {},
     "nuid": "f9c32fcb-ee4f-420a-bfff-fb7af259134a",
     "showTitle": false,
     "tableResultSettingsMap": {},
     "title": ""
    }
   },
   "outputs": [],
   "source": [
    "%sql select * from agents_demo.default.product_docs_agent_payload_request_logs"
   ]
  }
 ],
 "metadata": {
  "application/vnd.databricks.v1+notebook": {
   "dashboards": [],
   "environmentMetadata": null,
   "language": "python",
   "notebookMetadata": {
    "mostRecentlyExecutedCommandWithImplicitDF": {
     "commandId": 2716391597727269,
     "dataframes": [
      "_sqldf"
     ]
    },
    "pythonIndentUnit": 2
   },
   "notebookName": "4. Pre-production",
   "widgets": {}
  },
  "language_info": {
   "name": "python"
  }
 },
 "nbformat": 4,
 "nbformat_minor": 0
}
