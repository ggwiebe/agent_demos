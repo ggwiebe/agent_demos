{
 "cells": [
  {
   "cell_type": "code",
   "execution_count": 0,
   "metadata": {
    "application/vnd.databricks.v1+cell": {
     "cellMetadata": {
      "byteLimit": 2048000,
      "rowLimit": 10000
     },
     "inputWidgets": {},
     "nuid": "fba4af6f-af7f-42f0-9f7e-626f22687ca1",
     "showTitle": false,
     "tableResultSettingsMap": {},
     "title": ""
    }
   },
   "outputs": [],
   "source": [
    "%pip install -U -r requirements.txt\n",
    "%restart_python"
   ]
  },
  {
   "cell_type": "markdown",
   "metadata": {
    "application/vnd.databricks.v1+cell": {
     "cellMetadata": {
      "byteLimit": 2048000,
      "rowLimit": 10000
     },
     "inputWidgets": {},
     "nuid": "a53aea08-5b3e-4431-8a8d-ec33966cb100",
     "showTitle": false,
     "tableResultSettingsMap": {},
     "title": ""
    }
   },
   "source": [
    "## Create a Python-based tool"
   ]
  },
  {
   "cell_type": "code",
   "execution_count": 0,
   "metadata": {
    "application/vnd.databricks.v1+cell": {
     "cellMetadata": {
      "byteLimit": 2048000,
      "rowLimit": 10000
     },
     "inputWidgets": {},
     "nuid": "72121a4a-5765-4197-890c-ad928e057373",
     "showTitle": false,
     "tableResultSettingsMap": {},
     "title": ""
    }
   },
   "outputs": [],
   "source": [
    "from unitycatalog.ai.core.databricks import DatabricksFunctionClient\n",
    "\n",
    "\n",
    "def translate_sku(old_sku: str) -> str:\n",
    "    \"\"\"\n",
    "    Translates a pre-2024 SKU formatted as \"OLD-XXX-YYYY\" to the new SKU format \"NEW-YYYY-XXX\".\n",
    "\n",
    "    Args:\n",
    "        old_sku (str): The old SKU in the format \"OLD-XXX-YYYY\".\n",
    "\n",
    "    Returns:\n",
    "        str: The new SKU in the format \"NEW-YYYY-XXX\", or an error message if the format is incorrect.\n",
    "    \"\"\"\n",
    "    import re\n",
    "    # Define the regex pattern for the old SKU format\n",
    "    pattern = r\"^OLD-([A-Z]{3})-(\\d{4})$\"\n",
    "    # Match the old SKU against the pattern\n",
    "    match = re.match(pattern, old_sku)\n",
    "    if not match:\n",
    "        return \"Error: Invalid SKU format\"\n",
    "    # Extract the letter code and numeric part\n",
    "    letter_code, numeric_part = match.groups()\n",
    "    # Construct the new SKU by swapping the parts\n",
    "    new_sku = f\"NEW-{numeric_part}-{letter_code}\"\n",
    "    return new_sku\n",
    "\n",
    "\n",
    "client = DatabricksFunctionClient()\n",
    "\n",
    "result = client.create_python_function(\n",
    "    func=translate_sku,\n",
    "    catalog=\"agents_demo\",\n",
    "    schema=\"playground\",\n",
    "    replace=True\n",
    ")\n",
    "\n",
    "print(result)"
   ]
  },
  {
   "cell_type": "markdown",
   "metadata": {
    "application/vnd.databricks.v1+cell": {
     "cellMetadata": {
      "byteLimit": 2048000,
      "rowLimit": 10000
     },
     "inputWidgets": {},
     "nuid": "3958f189-9b36-4e26-934e-858af1711d0f",
     "showTitle": false,
     "tableResultSettingsMap": {},
     "title": ""
    }
   },
   "source": [
    "## Create a SQL-based tool"
   ]
  },
  {
   "cell_type": "code",
   "execution_count": 0,
   "metadata": {
    "application/vnd.databricks.v1+cell": {
     "cellMetadata": {
      "byteLimit": 2048000,
      "implicitDf": true,
      "rowLimit": 10000
     },
     "inputWidgets": {},
     "nuid": "6558a2e0-e572-453d-94a8-ea536a15ae4f",
     "showTitle": false,
     "tableResultSettingsMap": {},
     "title": ""
    }
   },
   "outputs": [],
   "source": [
    "%sql\n",
    "CREATE\n",
    "OR REPLACE FUNCTION agents_demo.playground.user_orders (\n",
    "  user_id STRING\n",
    "  COMMENT 'User ID to find orders for'\n",
    ") RETURNS TABLE(\n",
    "  amount INT,\n",
    "  order_id STRING,\n",
    "  item_count INT,\n",
    "  creation_date TIMESTAMP\n",
    ")\n",
    "COMMENT 'Finds a user\\'s recent orders: the amount, order ID, item count, and creation date based on the provided user ID.' RETURN\n",
    "SELECT\n",
    "  amount,\n",
    "  order_id,\n",
    "  item_count,\n",
    "  creation_date\n",
    "FROM\n",
    "  agents_demo.data.customer_orders\n",
    "WHERE\n",
    "  user_id = user_id;"
   ]
  },
  {
   "cell_type": "markdown",
   "metadata": {
    "application/vnd.databricks.v1+cell": {
     "cellMetadata": {
      "byteLimit": 2048000,
      "rowLimit": 10000
     },
     "inputWidgets": {},
     "nuid": "44a1c7ba-6766-437f-8b40-3c9ccc8979a2",
     "showTitle": false,
     "tableResultSettingsMap": {},
     "title": ""
    }
   },
   "source": [
    "## Other tools"
   ]
  },
  {
   "cell_type": "code",
   "execution_count": 0,
   "metadata": {
    "application/vnd.databricks.v1+cell": {
     "cellMetadata": {
      "byteLimit": 2048000,
      "rowLimit": 10000
     },
     "inputWidgets": {},
     "nuid": "2334c955-728b-42f3-bed7-410bec23b4ba",
     "showTitle": false,
     "tableResultSettingsMap": {},
     "title": ""
    }
   },
   "outputs": [],
   "source": [
    "def python_exec(code: str) -> str:\n",
    "  \"\"\"\n",
    "  Executes Python code in the sandboxed environment and returns its stdout. The runtime is stateless and you can not read output of the previous tool executions. i.e. No such variables \"rows\", \"observation\" defined. Calling another tool inside a Python code is NOT allowed. Use only standard python libraries and these python libraries: bleach, chardet, charset-normalizer, defusedxml, googleapis-common-protos, grpcio, grpcio-status, jmespath, joblib, numpy, packaging, pandas, patsy, protobuf, pyarrow, pyparsing, python-dateutil, pytz, scikit-learn, scipy, setuptools, six, threadpoolctl, webencodings, user-agents, cryptography.\n",
    "\n",
    "  Args:\n",
    "    code (str): Python code to execute. Remember to print the final result to stdout.\n",
    "\n",
    "  Returns:\n",
    "    str: The output of the executed code.\n",
    "  \"\"\"\n",
    "  import sys\n",
    "  from io import StringIO\n",
    "  sys_stdout = sys.stdout\n",
    "  redirected_output = StringIO()\n",
    "  sys.stdout = redirected_output\n",
    "  exec(code)\n",
    "  sys.stdout = sys_stdout\n",
    "  return redirected_output.getvalue()\n",
    "\n",
    "\n",
    "client = DatabricksFunctionClient()\n",
    "\n",
    "result = client.create_python_function(\n",
    "    func=python_exec,\n",
    "    catalog=\"agents_demo\",\n",
    "    schema=\"playground\",\n",
    "    replace=True\n",
    ")\n",
    "\n",
    "print(result)"
   ]
  },
  {
   "cell_type": "code",
   "execution_count": 0,
   "metadata": {
    "application/vnd.databricks.v1+cell": {
     "cellMetadata": {
      "byteLimit": 2048000,
      "rowLimit": 10000
     },
     "inputWidgets": {},
     "nuid": "3c67774e-6f02-42c7-81f0-f3d3d2c46e05",
     "showTitle": false,
     "tableResultSettingsMap": {},
     "title": ""
    }
   },
   "outputs": [],
   "source": [
    "from typing import Dict\n",
    "def send_customer_apology(user_name: str, message: str) -> Dict[str, str]:\n",
    "  \"\"\"\n",
    "  Sends an apology note to the customer with the appropiate valued gift certificate based on their current situation.\n",
    "\n",
    "  Args:\n",
    "    user_name (str): user name to send the apology to\n",
    "    message (str): any additional notes to include the standard apology note\n",
    "\n",
    "  Returns:\n",
    "    str: The output of the executed code.\n",
    "  \"\"\"\n",
    "  return {\n",
    "    'status': 'success',\n",
    "    'refund_amount': '100',\n",
    "    'message_sent': f'We are so sorry, here is $100.  Please try us again. {message}',\n",
    "  }\n",
    "\n",
    "client = DatabricksFunctionClient()\n",
    "\n",
    "result = client.create_python_function(\n",
    "    func=send_customer_apology,\n",
    "    catalog=\"agents_demo\",\n",
    "    schema=\"playground\",\n",
    "    replace=True\n",
    ")\n",
    "\n",
    "print(result)"
   ]
  },
  {
   "cell_type": "code",
   "execution_count": 0,
   "metadata": {
    "application/vnd.databricks.v1+cell": {
     "cellMetadata": {
      "byteLimit": 2048000,
      "implicitDf": true,
      "rowLimit": 10000
     },
     "inputWidgets": {},
     "nuid": "7c8db199-4a1d-45de-bc64-bbbcee552b36",
     "showTitle": false,
     "tableResultSettingsMap": {},
     "title": ""
    }
   },
   "outputs": [],
   "source": [
    "%sql\n",
    "CREATE\n",
    "OR REPLACE FUNCTION agents_demo.playground.search_product_documentation (\n",
    "  topic STRING\n",
    "  COMMENT 'Topic to find product documentation about, can be a product name or a query about a product'\n",
    ") RETURNS TABLE(\n",
    "  indexed_doc string,\n",
    "  product_category string,\n",
    "  product_doc string,\n",
    "  product_id string,\n",
    "  product_name string,\n",
    "  product_sub_category string,\n",
    "  search_score DOUBLE\n",
    ")\n",
    "COMMENT 'Finds product documentation' RETURN\n",
    "SELECT\n",
    "  *\n",
    "FROM\n",
    "  VECTOR_SEARCH(\n",
    "    index => \"agents_demo.data.product_docs_index\",\n",
    "    query => topic,\n",
    "    num_results => 5\n",
    "  )"
   ]
  },
  {
   "cell_type": "code",
   "execution_count": 0,
   "metadata": {
    "application/vnd.databricks.v1+cell": {
     "cellMetadata": {
      "byteLimit": 2048000,
      "implicitDf": true,
      "rowLimit": 10000
     },
     "inputWidgets": {},
     "nuid": "751e1fde-e8e4-478d-856f-55f90dc2c4aa",
     "showTitle": false,
     "tableResultSettingsMap": {},
     "title": ""
    }
   },
   "outputs": [],
   "source": [
    "%sql\n",
    "CREATE\n",
    "OR REPLACE FUNCTION agents_demo.playground.search_customer_support_transcripts (\n",
    "  topic STRING\n",
    "  COMMENT 'Topic to find recent call center transcripts about'\n",
    ") RETURNS TABLE(\n",
    "  issue_area string,\n",
    "  issue_category string,\n",
    "  issue_sub_category string,\n",
    "  product_category string,\n",
    "  product_sub_category string,\n",
    "  conversation string,\n",
    "  id string,\n",
    "  timestamp timestamp,\n",
    "  user_id string,\n",
    "  search_score double\n",
    ")\n",
    "COMMENT 'Finds a recent call center transcripts about a topic' RETURN\n",
    "SELECT\n",
    "  *\n",
    "except(concatenated_string)\n",
    "FROM\n",
    "  VECTOR_SEARCH(\n",
    "    index => \"agents_demo.data.customer_support_transcripts_index\",\n",
    "    query => topic,\n",
    "    num_results => 5\n",
    "  )"
   ]
  }
 ],
 "metadata": {
  "application/vnd.databricks.v1+notebook": {
   "dashboards": [],
   "environmentMetadata": null,
   "language": "python",
   "notebookMetadata": {
    "mostRecentlyExecutedCommandWithImplicitDF": {
     "commandId": 581366195827911,
     "dataframes": [
      "_sqldf"
     ]
    },
    "pythonIndentUnit": 2
   },
   "notebookName": "1. Create Tools",
   "widgets": {}
  },
  "language_info": {
   "name": "python"
  }
 },
 "nbformat": 4,
 "nbformat_minor": 0
}
